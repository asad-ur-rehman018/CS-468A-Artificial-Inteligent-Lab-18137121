{
 "cells": [
  {
   "cell_type": "markdown",
   "id": "0a9c6316",
   "metadata": {},
   "source": [
    "##### Sales Tax\n",
    "Write a program that will ask the user to enter the amount of a purchase. The program\n",
    "should then compute the state and county sales tax. Assume the state sales tax is 5 percent\n",
    "and the county sales tax is 2.5 percent. The program should display the following:\n",
    "* The amount of the purchase\n",
    "* The state sales tax\n",
    "* The county sales tax\n",
    "* The total sales tax\n",
    "* and the total of the sal\n"
   ]
  },
  {
   "cell_type": "code",
   "execution_count": 11,
   "id": "fc342d13",
   "metadata": {},
   "outputs": [
    {
     "name": "stdout",
     "output_type": "stream",
     "text": [
      "Enter amount of purchase: 1250\n"
     ]
    }
   ],
   "source": [
    "amount_of_purchase = float(input(\"Enter amount of purchase: \"))"
   ]
  },
  {
   "cell_type": "code",
   "execution_count": 12,
   "id": "b9af133e",
   "metadata": {},
   "outputs": [
    {
     "name": "stdout",
     "output_type": "stream",
     "text": [
      "amount of purchase is : 1250.0\n",
      "State sale tax is:  62.5\n",
      "country sale tax:  31.25\n",
      "total sales tax:  93.75\n",
      "total price:  1343.75\n"
     ]
    }
   ],
   "source": [
    "state_sales_tax = (amount_of_purchase * 5)/100\n",
    "country_sales_tax= (amount_of_purchase * 2.5)/100\n",
    "print(\"amount of purchase is :\",amount_of_purchase)\n",
    "print(\"State sale tax is: \",state_sales_tax)\n",
    "print(\"country sale tax: \",country_sales_tax)\n",
    "total_sales_tax = country_sales_tax + state_sales_tax\n",
    "print(\"total sales tax: \",total_sales_tax)\n",
    "print(\"total price: \",total_sales_tax+amount_of_purchase)"
   ]
  },
  {
   "cell_type": "code",
   "execution_count": null,
   "id": "a4919707",
   "metadata": {},
   "outputs": [],
   "source": []
  }
 ],
 "metadata": {
  "kernelspec": {
   "display_name": "Python 3",
   "language": "python",
   "name": "python3"
  },
  "language_info": {
   "codemirror_mode": {
    "name": "ipython",
    "version": 3
   },
   "file_extension": ".py",
   "mimetype": "text/x-python",
   "name": "python",
   "nbconvert_exporter": "python",
   "pygments_lexer": "ipython3",
   "version": "3.8.8"
  }
 },
 "nbformat": 4,
 "nbformat_minor": 5
}
