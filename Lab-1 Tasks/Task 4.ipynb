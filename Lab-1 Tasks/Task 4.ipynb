{
 "cells": [
  {
   "cell_type": "markdown",
   "id": "e365fc22",
   "metadata": {},
   "source": [
    "## Male and Female Percentages\n",
    "Write a program that asks the user for the number of males and the number of females registered\n",
    "in a class. The program should display the percentage of males and females in the class.\n",
    "\n",
    "*Hint: Suppose there are 8 males and 12 females in a class. There are 20 students in the\n",
    "class. The percentage of males can be calculated as 8 4 20 5 0.4, or 40%. The percentage\n",
    "of females can be calculated as 12 4 20 5 0.6, or 60%.*\n"
   ]
  },
  {
   "cell_type": "code",
   "execution_count": 2,
   "id": "33bcf815",
   "metadata": {},
   "outputs": [
    {
     "name": "stdout",
     "output_type": "stream",
     "text": [
      "enter number of males in class: 12\n",
      "enter number of females in class: 50\n"
     ]
    }
   ],
   "source": [
    "no_of_males = int(input(\"enter number of males in class: \"))\n",
    "no_of_females= int(input(\"enter number of females in class: \"))"
   ]
  },
  {
   "cell_type": "code",
   "execution_count": 3,
   "id": "34dff8cd",
   "metadata": {},
   "outputs": [
    {
     "name": "stdout",
     "output_type": "stream",
     "text": [
      "Male percentage is:  19.35483870967742\n",
      "female percentage is  80.64516129032258\n"
     ]
    }
   ],
   "source": [
    "total_students = no_of_males + no_of_females\n",
    "male_percent = (no_of_males*100)/total_students\n",
    "female_percent = (no_of_females*100)/total_students\n",
    "print(\"Male percentage is: \",male_percent)\n",
    "print(\"female percentage is \",female_percent)"
   ]
  }
 ],
 "metadata": {
  "kernelspec": {
   "display_name": "Python 3",
   "language": "python",
   "name": "python3"
  },
  "language_info": {
   "codemirror_mode": {
    "name": "ipython",
    "version": 3
   },
   "file_extension": ".py",
   "mimetype": "text/x-python",
   "name": "python",
   "nbconvert_exporter": "python",
   "pygments_lexer": "ipython3",
   "version": "3.8.8"
  }
 },
 "nbformat": 4,
 "nbformat_minor": 5
}
