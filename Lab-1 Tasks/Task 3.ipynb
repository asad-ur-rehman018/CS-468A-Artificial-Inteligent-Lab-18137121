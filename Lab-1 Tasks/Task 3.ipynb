{
 "cells": [
  {
   "cell_type": "markdown",
   "id": "d77c3977",
   "metadata": {},
   "source": [
    "## Ingredient Adjuster\n",
    "\n",
    "A cookie recipe calls for the following ingredients:\n",
    "* 1.5 cups of sugar\n",
    "* 1 cup of butter\n",
    "* 2.75 cups of flour\n",
    "\n",
    "The recipe produces 48 cookies with this amount of the ingredients. Write a program that\n",
    "asks the user how many cookies he or she wants to make, and then displays the number of\n",
    "cups of each ingredient needed for the specified number of cookies."
   ]
  },
  {
   "cell_type": "code",
   "execution_count": 2,
   "id": "4d35848b",
   "metadata": {},
   "outputs": [
    {
     "name": "stdout",
     "output_type": "stream",
     "text": [
      "Enter amount of cookie you want: 150\n"
     ]
    }
   ],
   "source": [
    "sugar_for_one_cookie = 1.5/48\n",
    "butter_for_one_cookie = 1/48\n",
    "flour_for_one_cookie = 2.75/48\n",
    "amount_of_cookie = int(input(\"Enter amount of cookie you want: \"))\n"
   ]
  },
  {
   "cell_type": "code",
   "execution_count": 3,
   "id": "ab89fca9",
   "metadata": {},
   "outputs": [
    {
     "name": "stdout",
     "output_type": "stream",
     "text": [
      "you will need\n",
      "4.6875  cup of sugar\n",
      "3.125  cup of butter\n",
      "8.59375  cup of flour\n"
     ]
    }
   ],
   "source": [
    "print(\"you will need\")\n",
    "print(sugar_for_one_cookie*amount_of_cookie,\" cup of sugar\")\n",
    "print(butter_for_one_cookie*amount_of_cookie,\" cup of butter\")\n",
    "print(flour_for_one_cookie*amount_of_cookie,\" cup of flour\")"
   ]
  }
 ],
 "metadata": {
  "kernelspec": {
   "display_name": "Python 3",
   "language": "python",
   "name": "python3"
  },
  "language_info": {
   "codemirror_mode": {
    "name": "ipython",
    "version": 3
   },
   "file_extension": ".py",
   "mimetype": "text/x-python",
   "name": "python",
   "nbconvert_exporter": "python",
   "pygments_lexer": "ipython3",
   "version": "3.8.8"
  }
 },
 "nbformat": 4,
 "nbformat_minor": 5
}
