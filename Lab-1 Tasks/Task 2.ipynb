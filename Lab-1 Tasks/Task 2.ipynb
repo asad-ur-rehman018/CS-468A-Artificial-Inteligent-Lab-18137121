{
 "cells": [
  {
   "cell_type": "markdown",
   "id": "04d9665d",
   "metadata": {},
   "source": [
    "## Tip, Tax and Total\n",
    "Write a program that calculates the total amount of a meal purchased at a restaurant. The\n",
    "program should ask the user to enter the charge for the food, and then calculate the amount\n",
    "of a 18 percent tip and 7 percent sales tax. Display each of these amounts and the total."
   ]
  },
  {
   "cell_type": "code",
   "execution_count": 2,
   "id": "d42775f9",
   "metadata": {},
   "outputs": [
    {
     "name": "stdout",
     "output_type": "stream",
     "text": [
      "enter the charge for the food: 1500\n"
     ]
    }
   ],
   "source": [
    "charge_of_food = float(input(\"enter the charge for the food: \"))"
   ]
  },
  {
   "cell_type": "code",
   "execution_count": 3,
   "id": "35235807",
   "metadata": {},
   "outputs": [
    {
     "name": "stdout",
     "output_type": "stream",
     "text": [
      "Charge of food:  1500.0\n",
      "tip:  270.0\n",
      "sales tax:  105.0\n",
      "total amount to be paid:  1875.0\n"
     ]
    }
   ],
   "source": [
    "tip = (charge_of_food * 18)/100\n",
    "sales_tax = (charge_of_food * 7)/100\n",
    "total_amount_paid = tip+sales_tax+charge_of_food\n",
    "print(\"Charge of food: \",charge_of_food)\n",
    "print(\"tip: \",tip)\n",
    "print(\"sales tax: \",sales_tax)\n",
    "print(\"total amount to be paid: \",total_amount_paid)"
   ]
  }
 ],
 "metadata": {
  "kernelspec": {
   "display_name": "Python 3",
   "language": "python",
   "name": "python3"
  },
  "language_info": {
   "codemirror_mode": {
    "name": "ipython",
    "version": 3
   },
   "file_extension": ".py",
   "mimetype": "text/x-python",
   "name": "python",
   "nbconvert_exporter": "python",
   "pygments_lexer": "ipython3",
   "version": "3.8.8"
  }
 },
 "nbformat": 4,
 "nbformat_minor": 5
}
