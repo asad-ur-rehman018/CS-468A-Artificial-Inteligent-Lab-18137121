{
 "cells": [
  {
   "cell_type": "markdown",
   "id": "9229e0f7",
   "metadata": {},
   "source": [
    "## Stock Transation Program\n",
    "Last month Joe purchased some stock in Acme Software, Inc. Here are the details of the\n",
    "purchase:\n",
    "* The number of shares that Joe purchased was 2,000.\n",
    "* When Joe purchased the stock, he paid 40.00 Dollar per share.\n",
    "* Joe paid his stockbroker a commission that amounted to 3 percent of the amount he paid for the stock.\n",
    "\n",
    "Two weeks later Joe sold the stock. Here are the details of the sale:\n",
    "* The number of shares that Joe sold was 2,000.\n",
    "* He sold the stock for 42.75 Dollar per share.\n",
    "* He paid his stockbroker another commission that amounted to 3 percent of the amount he received for the stock.\n",
    "\n",
    "Write a program that displays the following information:\n",
    "* The amount of money Joe paid for the stock.\n",
    "* The amount of commission Joe paid his broker when he bought the stock.\n",
    "* The amount that Joe sold the stock for.\n",
    "* The amount of commission Joe paid his broker when he sold the stock.\n",
    "* Display the amount of money that Joe had left when he sold the stock and paid his broker (both times). If this amount is positive, then Joe made a profit. If the amount is negative, then Joe lost money."
   ]
  },
  {
   "cell_type": "code",
   "execution_count": 2,
   "id": "b9fe2d5f",
   "metadata": {},
   "outputs": [
    {
     "name": "stdout",
     "output_type": "stream",
     "text": [
      "The amount of money Joe paid for the stock:  80000.0\n",
      "The amount of commission Joe paid his broker when he bought the stock:  2400.0\n",
      "The amount that Joe sold the stock for:  85500.0\n",
      "The amount of commission Joe paid his broker when he sold the stock:  2565.0\n",
      "amount of money that Joe had left when he sold the stock and paid his broker (both times):  535.0\n"
     ]
    }
   ],
   "source": [
    "number_of_shares_purchased = 2000\n",
    "purchasing_price_per_stock = 40.00\n",
    "price_of_purchased_shares = number_of_shares_purchased * purchasing_price_per_stock\n",
    "commision_of_purchased_shares = (price_of_purchased_shares * 3)/100\n",
    "\n",
    "number_of_shares_sold = 2000\n",
    "selling_price_per_stock = 42.75\n",
    "price_of_sold_shares = number_of_shares_sold * selling_price_per_stock\n",
    "commision_of_sold_shares = (price_of_sold_shares * 3)/100\n",
    "\n",
    "amount_of_money_left = (price_of_sold_shares - commision_of_sold_shares) - (price_of_purchased_shares + commision_of_purchased_shares)\n",
    "\n",
    "print(\"The amount of money Joe paid for the stock: \",price_of_purchased_shares)\n",
    "print(\"The amount of commission Joe paid his broker when he bought the stock: \",commision_of_purchased_shares)\n",
    "print(\"The amount that Joe sold the stock for: \",price_of_sold_shares)\n",
    "print(\"The amount of commission Joe paid his broker when he sold the stock: \",commision_of_sold_shares)\n",
    "print(\"amount of money that Joe had left when he sold the stock and paid his broker (both times): \",amount_of_money_left)"
   ]
  }
 ],
 "metadata": {
  "kernelspec": {
   "display_name": "Python 3",
   "language": "python",
   "name": "python3"
  },
  "language_info": {
   "codemirror_mode": {
    "name": "ipython",
    "version": 3
   },
   "file_extension": ".py",
   "mimetype": "text/x-python",
   "name": "python",
   "nbconvert_exporter": "python",
   "pygments_lexer": "ipython3",
   "version": "3.8.8"
  }
 },
 "nbformat": 4,
 "nbformat_minor": 5
}
